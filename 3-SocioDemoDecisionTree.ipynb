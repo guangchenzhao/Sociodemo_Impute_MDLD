{
 "cells": [
  {
   "cell_type": "code",
   "execution_count": 1,
   "metadata": {},
   "outputs": [],
   "source": [
    "import numpy as np \n",
    "import pandas as pd \n",
    "from scipy.stats import randint\n",
    "from sklearn import tree\n",
    "from sklearn import svm\n",
    "from sklearn.svm import SVC\n",
    "from sklearn.metrics import confusion_matrix \n",
    "from sklearn.model_selection import train_test_split\n",
    "from sklearn.tree import DecisionTreeClassifier \n",
    "from sklearn.metrics import accuracy_score \n",
    "from sklearn.metrics import classification_report \n",
    "from sklearn.model_selection import RandomizedSearchCV\n",
    "import matplotlib.pyplot as plt"
   ]
  },
  {
   "cell_type": "code",
   "execution_count": 45,
   "metadata": {},
   "outputs": [],
   "source": [
    "data = pd.read_csv('socialdemo_input.csv')\n",
    "data = data.dropna()\n",
    "data = data[data['HH_INC_group']>=0]\n",
    "data = data[data['R_AGE_group']>=0]\n",
    "data.loc[data['WORKER']==-9,'WORKER']= 0\n",
    "data.loc[data['WORKER']==-1,'WORKER']= 0\n",
    "data.loc[data['WKFTPT']==-8,'WKFTPT']= 0\n",
    "data.loc[data['WKFTPT']==-7,'WKFTPT']= 0\n",
    "data.loc[data['WKFTPT']==-1,'WKFTPT']= 0"
   ]
  },
  {
   "cell_type": "markdown",
   "metadata": {},
   "source": [
    "HH_INC_group  \n",
    "R_AGE_group"
   ]
  },
  {
   "cell_type": "markdown",
   "metadata": {},
   "source": [
    "### train a decision tree"
   ]
  },
  {
   "cell_type": "code",
   "execution_count": 46,
   "metadata": {},
   "outputs": [],
   "source": [
    "target = data[['HH_INC_group']] # or [['R_AGE_group']]\n",
    "features = data[['CNTTDTR','HBHUR','MSACAT','MSASIZE','RAIL',\n",
    "                 'URBAN','URBANSIZE','URBRUR',\n",
    "                 'USEPUBTR','WKFTPT','WORKER',\n",
    "                 'cbg_income_pct_less_50k','cbg_income_pct_50k_100k', 'cbg_income_pct_100k_more',\n",
    "                 'cbg_age_pct_under_17', 'cbg_age_pct_18_34', 'cbg_age_pct_35_64', 'cbg_age_pct_65_over',\n",
    "                 'ct_poverty_rate', 'ct_edu_pct_less_HS', 'ct_edu_pct_SCND_AD', 'ct_edu_pct_BD_more', \n",
    "                 'PUBUSE', 'Nighttrip','Morningtrip','earliesttrip','latesttrip']]\n",
    "\n",
    "X_train,X_test,y_train,y_test = train_test_split(features,target,test_size=0.3,random_state=5)"
   ]
  },
  {
   "cell_type": "code",
   "execution_count": 47,
   "metadata": {},
   "outputs": [
    {
     "name": "stdout",
     "output_type": "stream",
     "text": [
      "Fitting 10 folds for each of 100 candidates, totalling 1000 fits\n"
     ]
    },
    {
     "name": "stderr",
     "output_type": "stream",
     "text": [
      "[Parallel(n_jobs=10)]: Using backend LokyBackend with 10 concurrent workers.\n",
      "[Parallel(n_jobs=10)]: Done  21 tasks      | elapsed:    3.5s\n",
      "[Parallel(n_jobs=10)]: Done 142 tasks      | elapsed:   21.4s\n",
      "[Parallel(n_jobs=10)]: Done 345 tasks      | elapsed:   54.5s\n",
      "[Parallel(n_jobs=10)]: Done 628 tasks      | elapsed:  1.8min\n",
      "[Parallel(n_jobs=10)]: Done 1000 out of 1000 | elapsed:  2.8min finished\n"
     ]
    }
   ],
   "source": [
    "# Randomized search on hyper parameters\n",
    "param_dist = {\"max_depth\": [3,4,5,6,7,8,9,10,11, None],\n",
    "              \"max_features\": randint(1, 14),\n",
    "              \"min_samples_leaf\": randint(1, 20),\n",
    "              \"min_samples_split\": randint(2, 10),\n",
    "              \"criterion\": [\"gini\", \"entropy\"],\n",
    "              \"class_weight\": [\"balanced\"]}\n",
    "clf = DecisionTreeClassifier()\n",
    "clf_random = RandomizedSearchCV(estimator = clf, \n",
    "                                param_distributions = param_dist, \n",
    "                                n_iter = 100, cv = 10, \n",
    "                                verbose = 2, random_state=20, n_jobs = 10,\n",
    "                                pre_dispatch = '2*n_jobs')\n",
    "clf_random = clf_random.fit(X_train,y_train)"
   ]
  },
  {
   "cell_type": "code",
   "execution_count": null,
   "metadata": {},
   "outputs": [],
   "source": [
    "# select the best estimator\n",
    "best_random = clf_random.best_estimator_\n",
    "y_pred = best_random.predict(X_test) \n",
    "conf_mat = confusion_matrix(y_test, y_pred)"
   ]
  },
  {
   "cell_type": "code",
   "execution_count": null,
   "metadata": {},
   "outputs": [],
   "source": [
    "print (\"Accuracy : \", accuracy_score(y_test,y_pred)*100) \n",
    "print(best_random.max_depth,best_random.max_features,best_random.min_samples_leaf,\n",
    "      best_random.min_samples_split,best_random.criterion,best_random.class_weight)\n",
    "print(conf_mat)"
   ]
  },
  {
   "cell_type": "code",
   "execution_count": 61,
   "metadata": {},
   "outputs": [
    {
     "data": {
      "image/png": "[encoded data removed]",
      "text/plain": [
       "<Figure size 720x432 with 1 Axes>"
      ]
     },
     "metadata": {
      "needs_background": "light"
     },
     "output_type": "display_data"
    }
   ],
   "source": [
    "#plot feature importance\n",
    "cols = features.columns.tolist()\n",
    "importances = best_random.feature_importances_\n",
    "indices = np.argsort(importances)\n",
    "\n",
    "plt.figure(figsize=(10,6))\n",
    "plt.title('Feature Importance')\n",
    "plt.barh(range(len(indices)), importances[indices], color='b', align='center')\n",
    "plt.yticks(range(len(indices)), [cols[i] for i in indices])\n",
    "plt.xlabel('Relative Importance')\n",
    "plt.show()"
   ]
  },
  {
   "cell_type": "code",
   "execution_count": null,
   "metadata": {},
   "outputs": [],
   "source": [
    "#plot the tree\n",
    "tree.plot_tree(best_random) "
   ]
  },
  {
   "cell_type": "code",
   "execution_count": null,
   "metadata": {},
   "outputs": [],
   "source": [
    "#save the model\n",
    "import pickle\n",
    "filename = 'D:/Project/Next Gen/Socialdemo/income_model.sav'\n",
    "pickle.dump(best_random, open(filename, 'wb'))"
   ]
  }
 ],
 "metadata": {
  "kernelspec": {
   "display_name": "Python 3",
   "language": "python",
   "name": "python3"
  },
  "language_info": {
   "codemirror_mode": {
    "name": "ipython",
    "version": 3
   },
   "file_extension": ".py",
   "mimetype": "text/x-python",
   "name": "python",
   "nbconvert_exporter": "python",
   "pygments_lexer": "ipython3",
   "version": "3.7.4"
  }
 },
 "nbformat": 4,
 "nbformat_minor": 4
}
