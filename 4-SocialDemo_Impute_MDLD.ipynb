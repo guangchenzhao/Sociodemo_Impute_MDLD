{
 "cells": [
  {
   "cell_type": "markdown",
   "id": "674b28a0",
   "metadata": {},
   "source": [
    "## Sociodemographic Imputation for Mobile Device Location Data\n",
    "### This is processed on AWS EMR"
   ]
  },
  {
   "cell_type": "code",
   "execution_count": null,
   "id": "4af8a3a0",
   "metadata": {},
   "outputs": [],
   "source": [
    "sc.install_pypi_package('pyarrow==0.10.0')\n",
    "sc.install_pypi_package('matplotlib')\n",
    "sc.install_pypi_package('geopandas')\n",
    "sc.install_pypi_package('descartes')\n",
    "sc.install_pypi_package('shapely')\n",
    "sc.install_pypi_package('sklearn')\n",
    "sc.install_pypi_package('spark_sklearn')\n",
    "sc.install_pypi_package('imblearn')\n",
    "sc.install_pypi_package('requests')\n",
    "sc.install_pypi_package('hashids')\n",
    "sc.install_pypi_package('pandas==1.0.0')\n",
    "sc.install_pypi_package('scipy')\n",
    "sc.install_pypi_package('numpy')\n",
    "sc.install_pypi_package('geopy')\n",
    "sc.install_pypi_package('pytz')\n",
    "sc.install_pypi_package('s3fs')\n",
    "sc.install_pypi_package('ipfn')\n",
    "sc.install_pypi_package('boto3')\n",
    "sc.install_pypi_package('pygeohash')"
   ]
  },
  {
   "cell_type": "code",
   "execution_count": 2,
   "id": "1a6d8294",
   "metadata": {
    "execution": {
     "iopub.execute_input": "2023-07-23T22:03:53.003118Z",
     "iopub.status.busy": "2023-07-23T22:03:53.002730Z",
     "iopub.status.idle": "2023-07-23T22:03:54.577127Z",
     "shell.execute_reply": "2023-07-23T22:03:54.575853Z",
     "shell.execute_reply.started": "2023-07-23T22:03:53.003077Z"
    },
    "tags": []
   },
   "outputs": [
    {
     "data": {
      "application/vnd.jupyter.widget-view+json": {
       "model_id": "72a7f1eced0f45b2bba3253d28836a76",
       "version_major": 2,
       "version_minor": 0
      },
      "text/plain": [
       "VBox()"
      ]
     },
     "metadata": {},
     "output_type": "display_data"
    },
    {
     "data": {
      "application/vnd.jupyter.widget-view+json": {
       "model_id": "",
       "version_major": 2,
       "version_minor": 0
      },
      "text/plain": [
       "FloatProgress(value=0.0, bar_style='info', description='Progress:', layout=Layout(height='25px', width='50%'),…"
      ]
     },
     "metadata": {},
     "output_type": "display_data"
    }
   ],
   "source": [
    "import sys\n",
    "import os\n",
    "import pytz\n",
    "import pickle\n",
    "#import pygeohash as pgh\n",
    "from functools import reduce\n",
    "from dateutil import tz\n",
    "import datetime\n",
    "from hashids import Hashids\n",
    "# from s3fs.core import S3FileSystem\n",
    "import shapely.geometry as sg\n",
    "from shapely.geometry import Point, Polygon, shape\n",
    "from shapely import wkt\n",
    "import shapely.speedups\n",
    "from geopy.distance import geodesic\n",
    "import geopandas as gpd\n",
    "import pandas as pd\n",
    "import numpy as np\n",
    "import time\n",
    "import cgitb\n",
    "from itertools import islice\n",
    "from pyspark import Row, SQLContext\n",
    "from pyspark.sql.types import StringType, IntegerType, FloatType, DoubleType, DecimalType, StructType, StructField\n",
    "from pyspark.sql import SparkSession, SQLContext, DataFrame, Window,WindowSpec\n",
    "from pyspark.sql.functions import mean as _mean\n",
    "from pyspark.sql.functions import coalesce,explode, pandas_udf, PandasUDFType, udf, struct, lag, col, when, lit, first, sha1, concat, lpad, substring, regexp_replace, countDistinct, isnull, isnan\n",
    "import pyspark.sql.functions as SparkFunc\n",
    "from pyspark.sql.window import Window\n",
    "from pyspark.ml.feature import Bucketizer\n",
    "from pyspark import SparkContext, SparkConf\n",
    "from scipy.spatial import cKDTree as cKDTree\n",
    "from sklearn.neighbors import KDTree,BallTree\n",
    "from s3fs.core import S3FileSystem\n",
    "import boto3\n",
    "from pyspark.ml.classification import RandomForestClassifier,RandomForestClassificationModel,DecisionTreeClassifier,DecisionTreeClassificationModel\n",
    "from pyspark.ml.feature import VectorAssembler\n",
    "from pyspark.ml import PipelineModel\n",
    "from imblearn.over_sampling import SMOTE\n",
    "from ipfn import ipfn\n",
    "from pyspark.sql.functions import regexp_replace\n",
    "from pyspark import SparkContext\n",
    "import pygeohash as pgh\n",
    "\n",
    "sql_context = SQLContext(sc)"
   ]
  },
  {
   "cell_type": "markdown",
   "id": "ffd0997e",
   "metadata": {},
   "source": [
    "# Read device list, modify worker column"
   ]
  },
  {
   "cell_type": "code",
   "execution_count": 3,
   "id": "5c406e8c",
   "metadata": {
    "execution": {
     "iopub.execute_input": "2023-07-23T22:03:54.581843Z",
     "iopub.status.busy": "2023-07-23T22:03:54.581432Z",
     "iopub.status.idle": "2023-07-23T22:03:54.910198Z",
     "shell.execute_reply": "2023-07-23T22:03:54.903624Z",
     "shell.execute_reply.started": "2023-07-23T22:03:54.581800Z"
    },
    "tags": []
   },
   "outputs": [
    {
     "data": {
      "application/vnd.jupyter.widget-view+json": {
       "model_id": "eb6ad594792845cc8f0c7fcbf3865632",
       "version_major": 2,
       "version_minor": 0
      },
      "text/plain": [
       "VBox()"
      ]
     },
     "metadata": {},
     "output_type": "display_data"
    },
    {
     "data": {
      "application/vnd.jupyter.widget-view+json": {
       "model_id": "",
       "version_major": 2,
       "version_minor": 0
      },
      "text/plain": [
       "FloatProgress(value=0.0, bar_style='info', description='Progress:', layout=Layout(height='25px', width='50%'),…"
      ]
     },
     "metadata": {},
     "output_type": "display_data"
    },
    {
     "name": "stdout",
     "output_type": "stream",
     "text": [
      "31"
     ]
    }
   ],
   "source": [
    "year = 2022\n",
    "month = 1\n",
    "\n",
    "if month == 2:\n",
    "    num_days = 28\n",
    "elif month in [4,6,9,11]:\n",
    "    num_days = 30\n",
    "else:\n",
    "    num_days = 31\n",
    "num_days"
   ]
  },
  {
   "cell_type": "code",
   "execution_count": null,
   "id": "cfe69cbc",
   "metadata": {},
   "outputs": [],
   "source": [
    "# read national device list with home and work info\n",
    "National_device_list = spark.read.parquet(\"%02d/All8/AllFilter_HWProfile\" % month)\n",
    "\n",
    "# read device list of workers without non-fixed work location\n",
    "nf_worker = spark.read.parquet(\"/Nonfixed_Worker/\")\n",
    "\n",
    "nf_worker = nf_worker.withColumn('nf_worker',lit(1))\n",
    "National_device_list = National_device_list.join(nf_worker,'device_id',how='left')\n",
    "\n",
    "# if worker\n",
    "National_device_list = National_device_list.withColumn(\n",
    "    'WORKER',when(((col('w_geohash')).isNotNull())|(col('nf_worker')==1),1).otherwise(0))\n",
    "\n",
    "National_device_list.count()"
   ]
  },
  {
   "cell_type": "markdown",
   "id": "de1f655a",
   "metadata": {},
   "source": [
    "# Add BGFIPS based on geohash7"
   ]
  },
  {
   "cell_type": "code",
   "execution_count": null,
   "id": "ac098e6e",
   "metadata": {},
   "outputs": [],
   "source": [
    "# Read CBG shapefile\n",
    "CBG = spark.read.format(\"csv\").option(\"header\", \"True\").option(\"delimiter\", \",\").load(\n",
    "    \"/Supplement Input/National_CBG_Bounds_2021.csv\").coalesce(1).toPandas()\n",
    "CBG.set_index('BGFIPS',inplace=True)\n",
    "CBG = CBG.dropna()\n",
    "CBG['min_lon'] = CBG['min_lon'].astype('float')\n",
    "CBG['min_lat'] = CBG['min_lat'].astype('float')\n",
    "CBG['max_lon'] = CBG['max_lon'].astype('float')\n",
    "CBG['max_lat'] = CBG['max_lat'].astype('float')\n",
    "sc.broadcast(CBG)\n",
    "    \n",
    "def efficient_spatial_join(geo_hash7):\n",
    "    point = pgh.decode_exactly(geo_hash7)\n",
    "    Latitude = point[0]\n",
    "    Longitude = point[1]\n",
    "    CBG_1 = CBG.loc[(CBG['min_lat'] <= Latitude) \n",
    "                    & (CBG['min_lon'] <= Longitude) \n",
    "                    & (CBG['max_lat'] >= Latitude) \n",
    "                    & (CBG['max_lon'] >= Longitude)]\n",
    "    if len(CBG_1) == 0:\n",
    "        BGFIPS = 'OutofUSA'\n",
    "    elif len(CBG_1) == 1:\n",
    "        BGFIPS = CBG_1.index[0]\n",
    "    elif len(CBG_1['CTFIPS'].unique()) == 1:\n",
    "        BGFIPS = CBG_1.index[0]\n",
    "    else:\n",
    "        dist = []\n",
    "        for i in range(len(CBG_1)):\n",
    "            dist.append(geodesic(CBG_1[['Latitude','Longitude']].iloc[i],(Latitude, Longitude)).meters)\n",
    "        min_idx=np.argmin(dist)\n",
    "        BGFIPS = CBG_1.index[min_idx]\n",
    "            \n",
    "    return BGFIPS\n",
    "\n",
    "find_OD_udf = udf(efficient_spatial_join, StringType())\n",
    "\n",
    "National_device_list = National_device_list.withColumn(\"BGFIPS\",find_OD_udf(col('h_geohash')))\n",
    "\n",
    "National_device_list.count()"
   ]
  },
  {
   "cell_type": "markdown",
   "id": "f72f9aa2",
   "metadata": {},
   "source": [
    "# Add ACS variables"
   ]
  },
  {
   "cell_type": "code",
   "execution_count": null,
   "id": "57635e3b",
   "metadata": {},
   "outputs": [],
   "source": [
    "ACS_vars = spark.read.format(\"csv\").option(\"header\", \"True\").option(\n",
    "    \"delimiter\", \",\").option(\"inferSchema\", \"True\").load(\n",
    "    \"/ACS_20215Y_BG_age5_inc5_pov_edu.csv\").withColumn(\"BGFIPS\", lpad(\"BGFIPS\", 12, '0'))\n",
    "National_device_list = National_device_list.join(ACS_vars,on='BGFIPS')\n",
    "\n",
    "National_device_list.count()"
   ]
  },
  {
   "cell_type": "markdown",
   "id": "f3daa589",
   "metadata": {},
   "source": [
    "# Add trip characteristics"
   ]
  },
  {
   "cell_type": "code",
   "execution_count": 11,
   "id": "ab1c4c36",
   "metadata": {
    "execution": {
     "iopub.execute_input": "2023-07-01T23:05:29.256480Z",
     "iopub.status.busy": "2023-07-01T23:05:29.256144Z",
     "iopub.status.idle": "2023-07-01T23:10:19.341279Z",
     "shell.execute_reply": "2023-07-01T23:10:19.340420Z",
     "shell.execute_reply.started": "2023-07-01T23:05:29.256451Z"
    },
    "tags": []
   },
   "outputs": [
    {
     "data": {
      "application/vnd.jupyter.widget-view+json": {
       "model_id": "ed61361b74634b16bc3fcda576de416b",
       "version_major": 2,
       "version_minor": 0
      },
      "text/plain": [
       "VBox()"
      ]
     },
     "metadata": {},
     "output_type": "display_data"
    },
    {
     "data": {
      "application/vnd.jupyter.widget-view+json": {
       "model_id": "",
       "version_major": 2,
       "version_minor": 0
      },
      "text/plain": [
       "FloatProgress(value=0.0, bar_style='info', description='Progress:', layout=Layout(height='25px', width='50%'),…"
      ]
     },
     "metadata": {},
     "output_type": "display_data"
    }
   ],
   "source": [
    "file_lst = S3FileSystem(anon=False).ls(\n",
    "    '' % (year, month))\n",
    "file_lst = ['s3://'+ tripfile for tripfile in file_lst]\n",
    "#trip rate\n",
    "trip_rosters = spark.read.parquet(*file_lst).select('device_id')\n",
    "\n",
    "CNTYTPS = trip_rosters.groupby('device_id').count().withColumn('CNTTDTR', col('count')/num_days).select('device_id','CNTTDTR')\n",
    "df = spark.read.format(\"csv\").option(\"header\", \"True\").option(\"delimiter\", \",\").option(\"inferschema\", \"true\").load(\n",
    "       's3://mti-nextgen-temp/SocioDemoDeviceWeight/socialdemo_input_55.csv').coalesce(1).toPandas().dropna()\n",
    "#inflation factor of number of trips from NHTS and MDLD\n",
    "trip_factor = df['CNTTDTR'].mean()/CNTYTPS.groupBy().avg(\"CNTTDTR\").take(1)[0][0]\n",
    "CNTYTPS = CNTYTPS.withColumn('CNTTDTR', col('CNTTDTR')*trip_factor)\n",
    "\n",
    "CNTYTPS.write.parquet(\"/%s/%02d/TripCount\" % (year,month))"
   ]
  },
  {
   "cell_type": "code",
   "execution_count": 16,
   "id": "d9ada180",
   "metadata": {
    "execution": {
     "iopub.execute_input": "2023-07-23T22:28:10.949118Z",
     "iopub.status.busy": "2023-07-23T22:28:10.948782Z",
     "iopub.status.idle": "2023-07-23T22:28:18.649889Z",
     "shell.execute_reply": "2023-07-23T22:28:18.648855Z",
     "shell.execute_reply.started": "2023-07-23T22:28:10.949089Z"
    },
    "tags": []
   },
   "outputs": [
    {
     "data": {
      "application/vnd.jupyter.widget-view+json": {
       "model_id": "2b549b3c21d8429d9280bc73400c963b",
       "version_major": 2,
       "version_minor": 0
      },
      "text/plain": [
       "VBox()"
      ]
     },
     "metadata": {},
     "output_type": "display_data"
    },
    {
     "data": {
      "application/vnd.jupyter.widget-view+json": {
       "model_id": "",
       "version_major": 2,
       "version_minor": 0
      },
      "text/plain": [
       "FloatProgress(value=0.0, bar_style='info', description='Progress:', layout=Layout(height='25px', width='50%'),…"
      ]
     },
     "metadata": {},
     "output_type": "display_data"
    }
   ],
   "source": [
    "CNTYTPS = spark.read.parquet(\"/%s/%02d/TripCount\" % (year,month))\n",
    "\n",
    "National_device_list = National_device_list.join(CNTYTPS,on='device_id', how='left').fillna(0)"
   ]
  },
  {
   "cell_type": "markdown",
   "id": "7af443ff",
   "metadata": {},
   "source": [
    "# Impute sociodemo"
   ]
  },
  {
   "cell_type": "code",
   "execution_count": 19,
   "id": "a9b66b2d",
   "metadata": {
    "execution": {
     "iopub.execute_input": "2023-07-23T22:53:43.634296Z",
     "iopub.status.busy": "2023-07-23T22:53:43.633492Z",
     "iopub.status.idle": "2023-07-23T22:53:49.709303Z",
     "shell.execute_reply": "2023-07-23T22:53:49.708038Z",
     "shell.execute_reply.started": "2023-07-23T22:53:43.634248Z"
    },
    "tags": []
   },
   "outputs": [
    {
     "data": {
      "application/vnd.jupyter.widget-view+json": {
       "model_id": "01d6968651bf40959a46bcc504a7b8a2",
       "version_major": 2,
       "version_minor": 0
      },
      "text/plain": [
       "VBox()"
      ]
     },
     "metadata": {},
     "output_type": "display_data"
    },
    {
     "data": {
      "application/vnd.jupyter.widget-view+json": {
       "model_id": "",
       "version_major": 2,
       "version_minor": 0
      },
      "text/plain": [
       "FloatProgress(value=0.0, bar_style='info', description='Progress:', layout=Layout(height='25px', width='50%'),…"
      ]
     },
     "metadata": {},
     "output_type": "display_data"
    }
   ],
   "source": [
    "# if sampling size are too small. to avoid the socio demo of the entire population falling into a certain category, random draw can be applied\n",
    "import random\n",
    "def random_draw(prob_array):\n",
    "    proba = np.random.choice([0,1,2,3,4], 1, p=prob_array.tolist())[0]\n",
    "    return float(proba)\n",
    "\n",
    "random_draw_udf = SparkFunc.udf(lambda x: random_draw(x), StringType())\n",
    "\n",
    "age_model = DecisionTreeClassificationModel.load(\"/age_model\")\n",
    "features = National_device_list.select('device_id','cbg_age_pct_under_17', 'cbg_age_pct_18_24', 'cbg_age_pct_25_34',\n",
    "                                       'cbg_age_pct_35_54', 'cbg_age_pct_55_64', 'cbg_age_pct_65_over',\n",
    "                                       'cbg_inc_pct_less_25k','cbg_inc_pct_25k_50k', 'cbg_inc_pct_50k_75k',\n",
    "                                       'cbg_inc_pct_75k_125k', 'cbg_inc_pct_125k_more',\n",
    "                                       'ct_pov_rate', 'ct_edu_pct_less_HS','ct_edu_pct_SCND_AD', 'ct_edu_pct_BD_more','CNTTDTR','WORKER')\n",
    "\n",
    "features_assembler = VectorAssembler(inputCols=['cbg_age_pct_under_17', 'cbg_age_pct_18_24', 'cbg_age_pct_25_34',\n",
    "                                       'cbg_age_pct_35_54', 'cbg_age_pct_55_64', 'cbg_age_pct_65_over',\n",
    "                                       'cbg_inc_pct_less_25k','cbg_inc_pct_25k_50k', 'cbg_inc_pct_50k_75k',\n",
    "                                       'cbg_inc_pct_75k_125k', 'cbg_inc_pct_125k_more',\n",
    "                                       'ct_pov_rate', 'ct_edu_pct_less_HS','ct_edu_pct_SCND_AD', 'ct_edu_pct_BD_more','CNTTDTR','WORKER'],outputCol='features')\n",
    "features = features_assembler.transform(features)\n",
    "features = features.select('device_id','features')\n",
    "age_predictions = age_model.transform(features)\n",
    "age_predictions = age_predictions.withColumn('age', random_draw_udf(col('probability'))).select('device_id','age')\n",
    "\n",
    "income_model = DecisionTreeClassificationModel.load(\"/income_model\")\n",
    "features = National_device_list.select('device_id','cbg_age_pct_under_17', 'cbg_age_pct_18_24', 'cbg_age_pct_25_34',\n",
    "                                       'cbg_age_pct_35_54', 'cbg_age_pct_55_64', 'cbg_age_pct_65_over',\n",
    "                                       'cbg_inc_pct_less_25k','cbg_inc_pct_25k_50k', 'cbg_inc_pct_50k_75k',\n",
    "                                       'cbg_inc_pct_75k_125k', 'cbg_inc_pct_125k_more',\n",
    "                                       'ct_pov_rate', 'ct_edu_pct_less_HS','ct_edu_pct_SCND_AD', 'ct_edu_pct_BD_more','CNTTDTR','WORKER')\n",
    "\n",
    "features_assembler = VectorAssembler(inputCols=['cbg_age_pct_under_17', 'cbg_age_pct_18_24', 'cbg_age_pct_25_34',\n",
    "                                       'cbg_age_pct_35_54', 'cbg_age_pct_55_64', 'cbg_age_pct_65_over',\n",
    "                                       'cbg_inc_pct_less_25k','cbg_inc_pct_25k_50k', 'cbg_inc_pct_50k_75k',\n",
    "                                       'cbg_inc_pct_75k_125k', 'cbg_inc_pct_125k_more',\n",
    "                                       'ct_pov_rate', 'ct_edu_pct_less_HS','ct_edu_pct_SCND_AD', 'ct_edu_pct_BD_more','CNTTDTR','WORKER'],outputCol='features')\n",
    "features = features_assembler.transform(features)\n",
    "features = features.select('device_id','features')\n",
    "income_predictions = income_model.transform(features)\n",
    "income_predictions = income_predictions.withColumn('income', random_draw_udf(col('probability'))).select('device_id','income')"
   ]
  },
  {
   "cell_type": "code",
   "execution_count": 20,
   "id": "1ed6ec30",
   "metadata": {
    "execution": {
     "iopub.execute_input": "2023-07-23T22:53:49.712977Z",
     "iopub.status.busy": "2023-07-23T22:53:49.712425Z",
     "iopub.status.idle": "2023-07-23T22:53:50.012288Z",
     "shell.execute_reply": "2023-07-23T22:53:50.011404Z",
     "shell.execute_reply.started": "2023-07-23T22:53:49.712931Z"
    },
    "tags": []
   },
   "outputs": [
    {
     "data": {
      "application/vnd.jupyter.widget-view+json": {
       "model_id": "ac8ffdc8d0c0490796d1a8cf8e78a177",
       "version_major": 2,
       "version_minor": 0
      },
      "text/plain": [
       "VBox()"
      ]
     },
     "metadata": {},
     "output_type": "display_data"
    },
    {
     "data": {
      "application/vnd.jupyter.widget-view+json": {
       "model_id": "",
       "version_major": 2,
       "version_minor": 0
      },
      "text/plain": [
       "FloatProgress(value=0.0, bar_style='info', description='Progress:', layout=Layout(height='25px', width='50%'),…"
      ]
     },
     "metadata": {},
     "output_type": "display_data"
    }
   ],
   "source": [
    "National_device_list = National_device_list.join(age_predictions,on='device_id',how='left')\n",
    "National_device_list = National_device_list.join(income_predictions,on='device_id',how='left')"
   ]
  },
  {
   "cell_type": "code",
   "execution_count": 22,
   "id": "3747a1f8",
   "metadata": {
    "execution": {
     "iopub.execute_input": "2023-07-23T22:53:51.290853Z",
     "iopub.status.busy": "2023-07-23T22:53:51.290236Z",
     "iopub.status.idle": "2023-07-23T23:36:09.393285Z",
     "shell.execute_reply": "2023-07-23T23:36:09.392246Z",
     "shell.execute_reply.started": "2023-07-23T22:53:51.290811Z"
    },
    "scrolled": true,
    "tags": []
   },
   "outputs": [
    {
     "data": {
      "application/vnd.jupyter.widget-view+json": {
       "model_id": "9bbfb781f84c48998c314390e6a2539a",
       "version_major": 2,
       "version_minor": 0
      },
      "text/plain": [
       "VBox()"
      ]
     },
     "metadata": {},
     "output_type": "display_data"
    },
    {
     "data": {
      "application/vnd.jupyter.widget-view+json": {
       "model_id": "",
       "version_major": 2,
       "version_minor": 0
      },
      "text/plain": [
       "FloatProgress(value=0.0, bar_style='info', description='Progress:', layout=Layout(height='25px', width='50%'),…"
      ]
     },
     "metadata": {},
     "output_type": "display_data"
    }
   ],
   "source": [
    "National_device_list.write.parquet(\"%s/%02d/SocioDemo\" % (year, month))"
   ]
  }
 ],
 "metadata": {
  "kernelspec": {
   "display_name": "Python 3 (ipykernel)",
   "language": "python",
   "name": "python3"
  },
  "language_info": {
   "codemirror_mode": {
    "name": "ipython",
    "version": 3
   },
   "file_extension": ".py",
   "mimetype": "text/x-python",
   "name": "python",
   "nbconvert_exporter": "python",
   "pygments_lexer": "ipython3",
   "version": "3.10.11"
  }
 },
 "nbformat": 4,
 "nbformat_minor": 5
}
